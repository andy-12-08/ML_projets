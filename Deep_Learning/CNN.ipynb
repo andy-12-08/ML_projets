{
 "cells": [
  {
   "cell_type": "code",
   "execution_count": 61,
   "id": "bf3f81db",
   "metadata": {},
   "outputs": [],
   "source": [
    "import tensorflow as tf\n",
    "from tensorflow.keras import datasets, layers, models\n",
    "import matplotlib.pyplot as plt\n",
    "%matplotlib inline\n",
    "import numpy as np"
   ]
  },
  {
   "cell_type": "code",
   "execution_count": 62,
   "id": "f8d4f5ae",
   "metadata": {},
   "outputs": [],
   "source": [
    "(X_train,y_train), (X_test, y_test) = datasets.cifar10.load_data()"
   ]
  },
  {
   "cell_type": "code",
   "execution_count": 63,
   "id": "590dc51d",
   "metadata": {},
   "outputs": [
    {
     "data": {
      "text/plain": [
       "(50000, 32, 32, 3)"
      ]
     },
     "execution_count": 63,
     "metadata": {},
     "output_type": "execute_result"
    }
   ],
   "source": [
    "X_train.shape"
   ]
  },
  {
   "cell_type": "code",
   "execution_count": 64,
   "id": "dbff490c",
   "metadata": {},
   "outputs": [
    {
     "data": {
      "text/plain": [
       "(10000, 32, 32, 3)"
      ]
     },
     "execution_count": 64,
     "metadata": {},
     "output_type": "execute_result"
    }
   ],
   "source": [
    "X_test.shape"
   ]
  },
  {
   "cell_type": "code",
   "execution_count": 65,
   "id": "33d95d06",
   "metadata": {},
   "outputs": [
    {
     "data": {
      "text/plain": [
       "array([[[ 59,  62,  63],\n",
       "        [ 43,  46,  45],\n",
       "        [ 50,  48,  43],\n",
       "        ...,\n",
       "        [158, 132, 108],\n",
       "        [152, 125, 102],\n",
       "        [148, 124, 103]],\n",
       "\n",
       "       [[ 16,  20,  20],\n",
       "        [  0,   0,   0],\n",
       "        [ 18,   8,   0],\n",
       "        ...,\n",
       "        [123,  88,  55],\n",
       "        [119,  83,  50],\n",
       "        [122,  87,  57]],\n",
       "\n",
       "       [[ 25,  24,  21],\n",
       "        [ 16,   7,   0],\n",
       "        [ 49,  27,   8],\n",
       "        ...,\n",
       "        [118,  84,  50],\n",
       "        [120,  84,  50],\n",
       "        [109,  73,  42]],\n",
       "\n",
       "       ...,\n",
       "\n",
       "       [[208, 170,  96],\n",
       "        [201, 153,  34],\n",
       "        [198, 161,  26],\n",
       "        ...,\n",
       "        [160, 133,  70],\n",
       "        [ 56,  31,   7],\n",
       "        [ 53,  34,  20]],\n",
       "\n",
       "       [[180, 139,  96],\n",
       "        [173, 123,  42],\n",
       "        [186, 144,  30],\n",
       "        ...,\n",
       "        [184, 148,  94],\n",
       "        [ 97,  62,  34],\n",
       "        [ 83,  53,  34]],\n",
       "\n",
       "       [[177, 144, 116],\n",
       "        [168, 129,  94],\n",
       "        [179, 142,  87],\n",
       "        ...,\n",
       "        [216, 184, 140],\n",
       "        [151, 118,  84],\n",
       "        [123,  92,  72]]], dtype=uint8)"
      ]
     },
     "execution_count": 65,
     "metadata": {},
     "output_type": "execute_result"
    }
   ],
   "source": [
    "X_train[0]"
   ]
  },
  {
   "cell_type": "code",
   "execution_count": 66,
   "id": "29c6dd16",
   "metadata": {},
   "outputs": [
    {
     "data": {
      "text/plain": [
       "<matplotlib.image.AxesImage at 0x14bdc1f4910>"
      ]
     },
     "execution_count": 66,
     "metadata": {},
     "output_type": "execute_result"
    },
    {
     "data": {
      "image/png": "[encoded data removed]",
      "text/plain": [
       "<Figure size 1500x200 with 1 Axes>"
      ]
     },
     "metadata": {},
     "output_type": "display_data"
    }
   ],
   "source": [
    "plt.figure(figsize=(15,2))\n",
    "plt.imshow(X_train[0])"
   ]
  },
  {
   "cell_type": "code",
   "execution_count": 67,
   "id": "04d7bed5",
   "metadata": {},
   "outputs": [
    {
     "data": {
      "text/plain": [
       "(50000, 1)"
      ]
     },
     "execution_count": 67,
     "metadata": {},
     "output_type": "execute_result"
    }
   ],
   "source": [
    "y_train.shape"
   ]
  },
  {
   "cell_type": "code",
   "execution_count": 68,
   "id": "60de31a3",
   "metadata": {},
   "outputs": [
    {
     "data": {
      "text/plain": [
       "array([[6],\n",
       "       [9],\n",
       "       [9],\n",
       "       [4],\n",
       "       [1]], dtype=uint8)"
      ]
     },
     "execution_count": 68,
     "metadata": {},
     "output_type": "execute_result"
    }
   ],
   "source": [
    "y_train[0:5]"
   ]
  },
  {
   "cell_type": "code",
   "execution_count": 69,
   "id": "9539ca51",
   "metadata": {},
   "outputs": [],
   "source": [
    "# I want to be able to name the class [class labels]\n",
    "classes = ['airplane','automobile', 'bird', 'cat', 'deer', 'dog', 'frog', 'horse', 'ship', 'truck']"
   ]
  },
  {
   "cell_type": "code",
   "execution_count": 70,
   "id": "9b6ffab3",
   "metadata": {},
   "outputs": [
    {
     "data": {
      "text/plain": [
       "6"
      ]
     },
     "execution_count": 70,
     "metadata": {},
     "output_type": "execute_result"
    }
   ],
   "source": [
    "y_train[0][0]"
   ]
  },
  {
   "cell_type": "code",
   "execution_count": 71,
   "id": "26f51b08",
   "metadata": {},
   "outputs": [
    {
     "data": {
      "text/plain": [
       "'frog'"
      ]
     },
     "execution_count": 71,
     "metadata": {},
     "output_type": "execute_result"
    }
   ],
   "source": [
    "classes[y_train[0][0]]"
   ]
  },
  {
   "cell_type": "code",
   "execution_count": 72,
   "id": "a8297156",
   "metadata": {},
   "outputs": [
    {
     "data": {
      "text/plain": [
       "array([6, 9, 9, ..., 9, 1, 1], dtype=uint8)"
      ]
     },
     "execution_count": 72,
     "metadata": {},
     "output_type": "execute_result"
    }
   ],
   "source": [
    "### You can reshape y_train to be a 1D-array\n",
    "### the first input has -1 here means you want to keep the first dimension (i.e 10000) of y_trian\n",
    "### the second is left blank, which means you want to flatten the array\n",
    "\n",
    "y_train = y_train.reshape(-1,)\n",
    "y_train"
   ]
  },
  {
   "cell_type": "code",
   "execution_count": 73,
   "id": "965e695a",
   "metadata": {},
   "outputs": [
    {
     "data": {
      "text/plain": [
       "6"
      ]
     },
     "execution_count": 73,
     "metadata": {},
     "output_type": "execute_result"
    }
   ],
   "source": [
    "y_train[0]"
   ]
  },
  {
   "cell_type": "code",
   "execution_count": 74,
   "id": "f71a5dcc",
   "metadata": {},
   "outputs": [],
   "source": [
    "### A function to display the image\n",
    "\n",
    "def plot_sample(index):\n",
    "    plt.figure(figsize = (15,2))\n",
    "    plt.imshow(X_train[index])\n",
    "    print(classes[y_train[index]])"
   ]
  },
  {
   "cell_type": "code",
   "execution_count": 75,
   "id": "c4fa6c12",
   "metadata": {},
   "outputs": [
    {
     "name": "stdout",
     "output_type": "stream",
     "text": [
      "automobile\n"
     ]
    },
    {
     "data": {
      "image/png": "[encoded data removed]",
      "text/plain": [
       "<Figure size 1500x200 with 1 Axes>"
      ]
     },
     "metadata": {},
     "output_type": "display_data"
    }
   ],
   "source": [
    "plot_sample(4)"
   ]
  },
  {
   "cell_type": "code",
   "execution_count": 76,
   "id": "30c95d68",
   "metadata": {},
   "outputs": [],
   "source": [
    "### Normalization of the images\n",
    "\n",
    "X_train = X_train/255\n",
    "X_test = X_test/255"
   ]
  },
  {
   "cell_type": "code",
   "execution_count": 77,
   "id": "d17f9309",
   "metadata": {},
   "outputs": [
    {
     "name": "stdout",
     "output_type": "stream",
     "text": [
      "Epoch 1/5\n",
      "1563/1563 [==============================] - 73s 46ms/step - loss: 1.8122 - accuracy: 0.3554\n",
      "Epoch 2/5\n",
      "1563/1563 [==============================] - 71s 45ms/step - loss: 1.6250 - accuracy: 0.4274\n",
      "Epoch 3/5\n",
      "1563/1563 [==============================] - 71s 46ms/step - loss: 1.5415 - accuracy: 0.4558\n",
      "Epoch 4/5\n",
      "1563/1563 [==============================] - 70s 45ms/step - loss: 1.4823 - accuracy: 0.4773\n",
      "Epoch 5/5\n",
      "1563/1563 [==============================] - 73s 47ms/step - loss: 1.4313 - accuracy: 0.4959\n"
     ]
    },
    {
     "data": {
      "text/plain": [
       "<keras.callbacks.History at 0x14bd77365f0>"
      ]
     },
     "execution_count": 77,
     "metadata": {},
     "output_type": "execute_result"
    }
   ],
   "source": [
    "#### Building a simple ANN for this dataset\n",
    "\n",
    "ann = models.Sequential([\n",
    "    layers.Flatten(input_shape=(32,32,3)),\n",
    "    layers.Dense(3000, activation='relu'),\n",
    "    layers.Dense(1000, activation='relu'),\n",
    "    layers.Dense(10, activation='sigmoid')\n",
    "])\n",
    "\n",
    "ann.compile(optimizer='SGD',\n",
    "           loss = 'sparse_categorical_crossentropy',    #we didn't use \"categorical_crossentropy\" here because y_train was not one-hot encoded\n",
    "           metrics=['accuracy'])                        ## i.e y_train is directly a value here, and not 0s and 1s.\n",
    "\n",
    "ann.fit(X_train, y_train, epochs=5)"
   ]
  },
  {
   "cell_type": "code",
   "execution_count": 79,
   "id": "c18062cc",
   "metadata": {},
   "outputs": [
    {
     "name": "stdout",
     "output_type": "stream",
     "text": [
      "313/313 [==============================] - 3s 11ms/step - loss: 1.4403 - accuracy: 0.4918\n"
     ]
    },
    {
     "data": {
      "text/plain": [
       "[1.4402700662612915, 0.4918000102043152]"
      ]
     },
     "execution_count": 79,
     "metadata": {},
     "output_type": "execute_result"
    }
   ],
   "source": [
    "ann.evaluate(X_test, y_test)"
   ]
  },
  {
   "cell_type": "code",
   "execution_count": 81,
   "id": "b0fa7f05",
   "metadata": {},
   "outputs": [
    {
     "name": "stdout",
     "output_type": "stream",
     "text": [
      "313/313 [==============================] - 3s 10ms/step\n"
     ]
    },
    {
     "data": {
      "text/plain": [
       "array([[0.27856728, 0.5162448 , 0.57471496, ..., 0.08404329, 0.668698  ,\n",
       "        0.14036688],\n",
       "       [0.9226542 , 0.94443434, 0.20772375, ..., 0.10117456, 0.981711  ,\n",
       "        0.9798245 ],\n",
       "       [0.9759865 , 0.9026997 , 0.31139258, ..., 0.23393951, 0.97625965,\n",
       "        0.9094698 ],\n",
       "       ...,\n",
       "       [0.10438136, 0.06196982, 0.81358814, ..., 0.6503482 , 0.32794198,\n",
       "        0.14866419],\n",
       "       [0.5714793 , 0.40524504, 0.67538583, ..., 0.47669527, 0.13440438,\n",
       "        0.28008926],\n",
       "       [0.50309294, 0.238764  , 0.625378  , ..., 0.93071014, 0.23014165,\n",
       "        0.33345702]], dtype=float32)"
      ]
     },
     "execution_count": 81,
     "metadata": {},
     "output_type": "execute_result"
    }
   ],
   "source": [
    "ann.predict(X_test)"
   ]
  },
  {
   "cell_type": "code",
   "execution_count": 82,
   "id": "f25741e2",
   "metadata": {},
   "outputs": [
    {
     "name": "stdout",
     "output_type": "stream",
     "text": [
      "313/313 [==============================] - 3s 10ms/step\n"
     ]
    },
    {
     "data": {
      "text/plain": [
       "array([0.27233884, 0.1629101 , 0.7423047 , 0.61870193, 0.9442966 ,\n",
       "       0.6014267 , 0.8926651 , 0.57746553, 0.31483105, 0.08634074],\n",
       "      dtype=float32)"
      ]
     },
     "execution_count": 82,
     "metadata": {},
     "output_type": "execute_result"
    }
   ],
   "source": [
    "y_pred_ann = ann.predict(X_test)\n",
    "y_pred_ann[4]"
   ]
  },
  {
   "cell_type": "code",
   "execution_count": 83,
   "id": "3b7d61b1",
   "metadata": {},
   "outputs": [
    {
     "data": {
      "text/plain": [
       "'deer'"
      ]
     },
     "execution_count": 83,
     "metadata": {},
     "output_type": "execute_result"
    }
   ],
   "source": [
    "## to see the class that was predicted\n",
    "\n",
    "classes[np.argmax(y_pred_ann[4])]"
   ]
  },
  {
   "cell_type": "code",
   "execution_count": 84,
   "id": "cd5589c5",
   "metadata": {},
   "outputs": [
    {
     "data": {
      "text/plain": [
       "'frog'"
      ]
     },
     "execution_count": 84,
     "metadata": {},
     "output_type": "execute_result"
    }
   ],
   "source": [
    "## to see the true class\n",
    "\n",
    "classes[y_test[4][0]]"
   ]
  },
  {
   "cell_type": "code",
   "execution_count": 85,
   "id": "b254dc86",
   "metadata": {},
   "outputs": [
    {
     "name": "stdout",
     "output_type": "stream",
     "text": [
      "Classification report: \n",
      "               precision    recall  f1-score   support\n",
      "\n",
      "           0       0.55      0.52      0.54      1000\n",
      "           1       0.56      0.64      0.60      1000\n",
      "           2       0.42      0.29      0.35      1000\n",
      "           3       0.38      0.32      0.35      1000\n",
      "           4       0.55      0.25      0.34      1000\n",
      "           5       0.49      0.28      0.36      1000\n",
      "           6       0.43      0.71      0.54      1000\n",
      "           7       0.48      0.61      0.54      1000\n",
      "           8       0.56      0.69      0.61      1000\n",
      "           9       0.51      0.60      0.55      1000\n",
      "\n",
      "    accuracy                           0.49     10000\n",
      "   macro avg       0.49      0.49      0.48     10000\n",
      "weighted avg       0.49      0.49      0.48     10000\n",
      "\n"
     ]
    }
   ],
   "source": [
    "from sklearn.metrics import confusion_matrix, classification_report\n",
    "\n",
    "## to represent y_pred with the the class having the highest score\n",
    "y_pred_ann_classes = [np.argmax(element) for element in y_pred_ann]\n",
    "\n",
    "\n",
    "print('Classification report: \\n', classification_report(y_test, y_pred_ann_classes))\n",
    "\n",
    "## prediction was poor "
   ]
  },
  {
   "cell_type": "code",
   "execution_count": 86,
   "id": "198a506c",
   "metadata": {},
   "outputs": [
    {
     "name": "stdout",
     "output_type": "stream",
     "text": [
      "Epoch 1/10\n",
      "1563/1563 [==============================] - 27s 17ms/step - loss: 1.4830 - accuracy: 0.4651\n",
      "Epoch 2/10\n",
      "1563/1563 [==============================] - 26s 17ms/step - loss: 1.1350 - accuracy: 0.6046\n",
      "Epoch 3/10\n",
      "1563/1563 [==============================] - 28s 18ms/step - loss: 1.0066 - accuracy: 0.6503\n",
      "Epoch 4/10\n",
      "1563/1563 [==============================] - 28s 18ms/step - loss: 0.9195 - accuracy: 0.6812\n",
      "Epoch 5/10\n",
      "1563/1563 [==============================] - 26s 17ms/step - loss: 0.8519 - accuracy: 0.7051\n",
      "Epoch 6/10\n",
      "1563/1563 [==============================] - 26s 17ms/step - loss: 0.7969 - accuracy: 0.7240\n",
      "Epoch 7/10\n",
      "1563/1563 [==============================] - 26s 17ms/step - loss: 0.7491 - accuracy: 0.7403\n",
      "Epoch 8/10\n",
      "1563/1563 [==============================] - 26s 16ms/step - loss: 0.7030 - accuracy: 0.7562\n",
      "Epoch 9/10\n",
      "1563/1563 [==============================] - 26s 17ms/step - loss: 0.6656 - accuracy: 0.7695\n",
      "Epoch 10/10\n",
      "1563/1563 [==============================] - 26s 17ms/step - loss: 0.6333 - accuracy: 0.7796\n"
     ]
    },
    {
     "data": {
      "text/plain": [
       "<keras.callbacks.History at 0x14bd77ebf40>"
      ]
     },
     "execution_count": 86,
     "metadata": {},
     "output_type": "execute_result"
    }
   ],
   "source": [
    "#### Training same model, using CNN before the dense ANN layers for this dataset\n",
    "### We add convolution and pooling layers in front of the ANN layers\n",
    "\n",
    "cnn = models.Sequential([\n",
    "    \n",
    "    #cnn\n",
    "    # from the architecture;\n",
    "    # add your first convolution layer (convolution is for detecting your features in your image)\n",
    "    # here we use 32 filters (to detect 32 different features or edges in your image) each with size 3 x 3 \n",
    "    # add your maxpooling layer (averagepooling can also be used)\n",
    "    layers.Conv2D(filters=32, kernel_size=(3,3), activation='relu', input_shape=(32,32,3)),\n",
    "    layers.MaxPool2D((2,2)),\n",
    "    \n",
    "    #another set of convolution and pooling layers\n",
    "    layers.Conv2D(filters=64, kernel_size=(3,3), activation='relu'),\n",
    "    layers.MaxPool2D((2,2)),\n",
    "    \n",
    "    #ann\n",
    "    #dense layers\n",
    "    #when you're in a middle layer, you don't need to specify the shape. The network can figure it out automatically\n",
    "    #just to keep things simple, we'll use only one dense network with fewer neurons\n",
    "    #because cnn would have done most of the work (so we don't need so many neurons and deep layers)\n",
    "    #softmax activation is like sigmoid, the difference is that it normalizes your output (its a common activation function)\n",
    "    layers.Flatten(),\n",
    "    layers.Dense(64, activation='relu'),\n",
    "    layers.Dense(10, activation='softmax')  #output layer, we have 10 classes \n",
    "])\n",
    "\n",
    "cnn.compile(optimizer='adam',\n",
    "           loss = 'sparse_categorical_crossentropy',    \n",
    "           metrics=['accuracy'])                        \n",
    "\n",
    "cnn.fit(X_train, y_train, epochs=10)"
   ]
  },
  {
   "cell_type": "code",
   "execution_count": 87,
   "id": "f1d48ec7",
   "metadata": {},
   "outputs": [
    {
     "name": "stdout",
     "output_type": "stream",
     "text": [
      "313/313 [==============================] - 2s 6ms/step - loss: 0.9004 - accuracy: 0.7029\n"
     ]
    },
    {
     "data": {
      "text/plain": [
       "[0.9004203081130981, 0.7028999924659729]"
      ]
     },
     "execution_count": 87,
     "metadata": {},
     "output_type": "execute_result"
    }
   ],
   "source": [
    "cnn.evaluate(X_test, y_test)"
   ]
  },
  {
   "cell_type": "code",
   "execution_count": 88,
   "id": "32bda4e1",
   "metadata": {},
   "outputs": [
    {
     "name": "stdout",
     "output_type": "stream",
     "text": [
      "313/313 [==============================] - 2s 6ms/step\n"
     ]
    },
    {
     "data": {
      "text/plain": [
       "array([[2.6821168e-03, 8.6378219e-05, 1.7899357e-03, ..., 5.5482706e-05,\n",
       "        4.2822413e-02, 4.0680377e-04],\n",
       "       [2.2439077e-03, 1.6996333e-02, 7.6137818e-05, ..., 1.3792194e-08,\n",
       "        9.8062080e-01, 6.1426334e-05],\n",
       "       [1.2100659e-01, 4.6428081e-02, 4.8313672e-03, ..., 2.8696887e-03,\n",
       "        7.9212886e-01, 2.0459535e-02],\n",
       "       ...,\n",
       "       [3.7053681e-03, 7.1977620e-06, 1.4596617e-01, ..., 1.4238399e-01,\n",
       "        4.9232296e-04, 7.2381408e-06],\n",
       "       [1.3113483e-03, 1.5661584e-02, 1.1483683e-03, ..., 2.0902084e-04,\n",
       "        1.1507269e-05, 1.0681753e-05],\n",
       "       [4.3714344e-06, 2.9912060e-06, 3.7265447e-04, ..., 9.6912730e-01,\n",
       "        5.4780236e-07, 1.9994941e-06]], dtype=float32)"
      ]
     },
     "execution_count": 88,
     "metadata": {},
     "output_type": "execute_result"
    }
   ],
   "source": [
    "cnn.predict(X_test)\n",
    "## The values in each of these elements are actually probability distribution betwee 0 and 1 (because we used 'softmax')\n",
    "## And we are interested in which element is the max (we use argmax function to get this)"
   ]
  },
  {
   "cell_type": "code",
   "execution_count": 89,
   "id": "025793b9",
   "metadata": {},
   "outputs": [
    {
     "name": "stdout",
     "output_type": "stream",
     "text": [
      "313/313 [==============================] - 2s 5ms/step\n"
     ]
    },
    {
     "data": {
      "text/plain": [
       "array([3.6899368e-07, 9.7691161e-05, 1.1585634e-02, 1.0939755e-02,\n",
       "       9.0925419e-01, 1.9055331e-03, 6.6155814e-02, 2.2388647e-05,\n",
       "       2.8132265e-05, 1.0532670e-05], dtype=float32)"
      ]
     },
     "execution_count": 89,
     "metadata": {},
     "output_type": "execute_result"
    }
   ],
   "source": [
    "y_pred_cnn = cnn.predict(X_test)\n",
    "y_pred_cnn[4]"
   ]
  },
  {
   "cell_type": "code",
   "execution_count": 90,
   "id": "c3067866",
   "metadata": {},
   "outputs": [
    {
     "data": {
      "text/plain": [
       "'deer'"
      ]
     },
     "execution_count": 90,
     "metadata": {},
     "output_type": "execute_result"
    }
   ],
   "source": [
    "## to see the class that was predicted\n",
    "\n",
    "classes[np.argmax(y_pred_cnn[4])]"
   ]
  },
  {
   "cell_type": "code",
   "execution_count": 91,
   "id": "9191d836",
   "metadata": {},
   "outputs": [
    {
     "data": {
      "text/plain": [
       "'frog'"
      ]
     },
     "execution_count": 91,
     "metadata": {},
     "output_type": "execute_result"
    }
   ],
   "source": [
    "## to see the true class\n",
    "\n",
    "classes[y_test[4][0]]"
   ]
  },
  {
   "cell_type": "code",
   "execution_count": 106,
   "id": "e6421d8a",
   "metadata": {},
   "outputs": [
    {
     "data": {
      "text/plain": [
       "<matplotlib.image.AxesImage at 0x14bda0497b0>"
      ]
     },
     "execution_count": 106,
     "metadata": {},
     "output_type": "execute_result"
    },
    {
     "data": {
      "image/png": "[encoded data removed]",
      "text/plain": [
       "<Figure size 1500x200 with 1 Axes>"
      ]
     },
     "metadata": {},
     "output_type": "display_data"
    }
   ],
   "source": [
    "plt.figure(figsize=(15,2))\n",
    "plt.imshow(X_test[4])"
   ]
  },
  {
   "cell_type": "code",
   "execution_count": 93,
   "id": "12c568d5",
   "metadata": {},
   "outputs": [
    {
     "name": "stdout",
     "output_type": "stream",
     "text": [
      "Classification report: \n",
      "               precision    recall  f1-score   support\n",
      "\n",
      "           0       0.70      0.74      0.72      1000\n",
      "           1       0.76      0.85      0.80      1000\n",
      "           2       0.54      0.64      0.59      1000\n",
      "           3       0.55      0.50      0.52      1000\n",
      "           4       0.69      0.62      0.65      1000\n",
      "           5       0.63      0.64      0.63      1000\n",
      "           6       0.78      0.78      0.78      1000\n",
      "           7       0.83      0.74      0.78      1000\n",
      "           8       0.76      0.83      0.79      1000\n",
      "           9       0.83      0.71      0.76      1000\n",
      "\n",
      "    accuracy                           0.70     10000\n",
      "   macro avg       0.71      0.70      0.70     10000\n",
      "weighted avg       0.71      0.70      0.70     10000\n",
      "\n"
     ]
    }
   ],
   "source": [
    "from sklearn.metrics import confusion_matrix, classification_report\n",
    "\n",
    "## to represent y_pred with the the class having the highest score\n",
    "y_pred_cnn_classes = [np.argmax(element) for element in y_pred_cnn]  ## using list comprehension in python\n",
    "\n",
    "\n",
    "print('Classification report: \\n', classification_report(y_test, y_pred_cnn_classes))\n"
   ]
  },
  {
   "cell_type": "code",
   "execution_count": null,
   "id": "bd4837d0",
   "metadata": {},
   "outputs": [],
   "source": []
  }
 ],
 "metadata": {
  "kernelspec": {
   "display_name": "Python 3 (ipykernel)",
   "language": "python",
   "name": "python3"
  },
  "language_info": {
   "codemirror_mode": {
    "name": "ipython",
    "version": 3
   },
   "file_extension": ".py",
   "mimetype": "text/x-python",
   "name": "python",
   "nbconvert_exporter": "python",
   "pygments_lexer": "ipython3",
   "version": "3.10.9"
  }
 },
 "nbformat": 4,
 "nbformat_minor": 5
}
