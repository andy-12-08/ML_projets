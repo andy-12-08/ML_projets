{
 "cells": [
  {
   "cell_type": "code",
   "execution_count": 3,
   "id": "3635bf39",
   "metadata": {},
   "outputs": [
    {
     "data": {
      "text/html": [
       "<div>\n",
       "<style scoped>\n",
       "    .dataframe tbody tr th:only-of-type {\n",
       "        vertical-align: middle;\n",
       "    }\n",
       "\n",
       "    .dataframe tbody tr th {\n",
       "        vertical-align: top;\n",
       "    }\n",
       "\n",
       "    .dataframe thead th {\n",
       "        text-align: right;\n",
       "    }\n",
       "</style>\n",
       "<table border=\"1\" class=\"dataframe\">\n",
       "  <thead>\n",
       "    <tr style=\"text-align: right;\">\n",
       "      <th></th>\n",
       "      <th>model</th>\n",
       "      <th>best_score</th>\n",
       "      <th>best_params</th>\n",
       "    </tr>\n",
       "  </thead>\n",
       "  <tbody>\n",
       "    <tr>\n",
       "      <th>0</th>\n",
       "      <td>svm</td>\n",
       "      <td>0.947697</td>\n",
       "      <td>{'C': 1, 'kernel': 'linear'}</td>\n",
       "    </tr>\n",
       "    <tr>\n",
       "      <th>1</th>\n",
       "      <td>random_forest</td>\n",
       "      <td>0.892639</td>\n",
       "      <td>{'n_estimators': 10}</td>\n",
       "    </tr>\n",
       "    <tr>\n",
       "      <th>2</th>\n",
       "      <td>logistic_regression</td>\n",
       "      <td>0.922114</td>\n",
       "      <td>{'C': 1}</td>\n",
       "    </tr>\n",
       "    <tr>\n",
       "      <th>3</th>\n",
       "      <td>GaussianNB</td>\n",
       "      <td>0.814157</td>\n",
       "      <td>{'var_smoothing': 2e-09}</td>\n",
       "    </tr>\n",
       "    <tr>\n",
       "      <th>4</th>\n",
       "      <td>MultinomialNB</td>\n",
       "      <td>0.871464</td>\n",
       "      <td>{'alpha': 2}</td>\n",
       "    </tr>\n",
       "    <tr>\n",
       "      <th>5</th>\n",
       "      <td>DecisionTreeClassifier</td>\n",
       "      <td>0.813607</td>\n",
       "      <td>{'criterion': 'entropy'}</td>\n",
       "    </tr>\n",
       "  </tbody>\n",
       "</table>\n",
       "</div>"
      ],
      "text/plain": [
       "                    model  best_score                   best_params\n",
       "0                     svm    0.947697  {'C': 1, 'kernel': 'linear'}\n",
       "1           random_forest    0.892639          {'n_estimators': 10}\n",
       "2     logistic_regression    0.922114                      {'C': 1}\n",
       "3              GaussianNB    0.814157      {'var_smoothing': 2e-09}\n",
       "4           MultinomialNB    0.871464                  {'alpha': 2}\n",
       "5  DecisionTreeClassifier    0.813607      {'criterion': 'entropy'}"
      ]
     },
     "execution_count": 3,
     "metadata": {},
     "output_type": "execute_result"
    }
   ],
   "source": [
    "# Python Code Snippet for selecting best model learning model\n",
    "\n",
    "# import the dataset\n",
    "import pandas as pd\n",
    "from sklearn.datasets import load_iris\n",
    "from sklearn.datasets import load_digits\n",
    "# import the variuos ML models from sklearn library\n",
    "from sklearn.linear_model import LogisticRegression\n",
    "from sklearn.tree import DecisionTreeClassifier\n",
    "from sklearn import svm\n",
    "from sklearn.ensemble import RandomForestClassifier\n",
    "from sklearn.naive_bayes import GaussianNB\n",
    "from sklearn.naive_bayes import MultinomialNB\n",
    "# import parameter search model\n",
    "from sklearn.model_selection import GridSearchCV\n",
    "from sklearn.model_selection import RandomizedSearchCV\n",
    "\n",
    "digits = load_digits()\n",
    "\n",
    "model_params = {'svm':{'model':svm.SVC(gamma='auto'),'params':{'C':[1,10,20],'kernel':['rbf','linear']}},\n",
    "               'random_forest':{'model':RandomForestClassifier(), 'params':{'n_estimators':[1,5,10]}},\n",
    "               'logistic_regression':{'model':LogisticRegression(solver='liblinear', multi_class ='auto'), 'params':{'C':[1,5,10]}},\n",
    "               'GaussianNB':{'model':GaussianNB(), 'params':{'var_smoothing':[2e-9]}},\n",
    "               'MultinomialNB':{'model':MultinomialNB(), 'params':{'alpha':[0.6,1,2]}},\n",
    "               'DecisionTreeClassifier':{'model':DecisionTreeClassifier(), 'params':{'criterion':['gini','entropy']}}}\n",
    "\n",
    "scores = []\n",
    "for model_name, mp in model_params.items():\n",
    "    clf = GridSearchCV(mp['model'], mp['params'], cv=5, return_train_score=False)\n",
    "    clf.fit(digits.data, digits.target)\n",
    "    scores.append({'model':model_name, 'best_score':clf.best_score_, 'best_params':clf.best_params_})\n",
    "    \n",
    "df = pd.DataFrame(scores, columns=['model', 'best_score','best_params'])\n",
    "df"
   ]
  },
  {
   "cell_type": "code",
   "execution_count": 4,
   "id": "6d362543",
   "metadata": {},
   "outputs": [
    {
     "name": "stdout",
     "output_type": "stream",
     "text": [
      "  Category                                            Message  spam\n",
      "0      ham  Go until jurong point, crazy.. Available only ...     0\n",
      "1      ham                      Ok lar... Joking wif u oni...     0\n",
      "2     spam  Free entry in 2 a wkly comp to win FA Cup fina...     1\n",
      "3      ham  U dun say so early hor... U c already then say...     0\n",
      "4      ham  Nah I don't think he goes to usf, he lives aro...     0\n"
     ]
    },
    {
     "data": {
      "text/plain": [
       "0.9834888729361091"
      ]
     },
     "execution_count": 4,
     "metadata": {},
     "output_type": "execute_result"
    }
   ],
   "source": [
    "# Python Code Snippet for spam detection \n",
    "\n",
    "import pandas as pd\n",
    "df = pd.read_csv('spam.csv')\n",
    "df.groupby('Category').describe()\n",
    "df['spam']=df['Category'].apply(lambda x: 1 if x=='spam' else 0)\n",
    "#df.drop(df['Category'], axis=1)\n",
    "print(df.head())\n",
    "\n",
    "from sklearn.model_selection import train_test_split\n",
    "x_train,x_test,y_train,y_test = train_test_split(df.Message, df.spam, test_size=0.25)\n",
    "\n",
    "from sklearn.feature_extraction.text import CountVectorizer\n",
    "v = CountVectorizer()\n",
    "x_train_count = v.fit_transform(x_train.values)\n",
    "x_train_count.toarray()[:3]\n",
    "\n",
    "from sklearn.naive_bayes import MultinomialNB\n",
    "model = MultinomialNB()\n",
    "model.fit(x_train_count, y_train)\n",
    "\n",
    "x_test_count = v.transform(x_test)\n",
    "model.score(x_test_count, y_test)\n",
    "\n",
    "#using a pipeline to embed the text conversion and classsification\n",
    "from sklearn.pipeline import Pipeline\n",
    "clf = Pipeline([('vectorizer', CountVectorizer()), ('nb',MultinomialNB())])\n",
    "clf.fit(x_train,y_train)\n",
    "clf.score(x_test,y_test)"
   ]
  },
  {
   "cell_type": "code",
   "execution_count": null,
   "id": "7184ab09",
   "metadata": {},
   "outputs": [],
   "source": []
  }
 ],
 "metadata": {
  "kernelspec": {
   "display_name": "Python 3",
   "language": "python",
   "name": "python3"
  },
  "language_info": {
   "codemirror_mode": {
    "name": "ipython",
    "version": 3
   },
   "file_extension": ".py",
   "mimetype": "text/x-python",
   "name": "python",
   "nbconvert_exporter": "python",
   "pygments_lexer": "ipython3",
   "version": "3.8.8"
  }
 },
 "nbformat": 4,
 "nbformat_minor": 5
}
