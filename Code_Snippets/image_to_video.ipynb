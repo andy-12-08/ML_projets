{
 "cells": [
  {
   "cell_type": "code",
   "execution_count": 9,
   "id": "fb75e94a",
   "metadata": {},
   "outputs": [],
   "source": [
    "#!/usr/bin/env python\n",
    "\n",
    "import cv2\n",
    "import os\n",
    "from os.path import isfile, join\n",
    "\n",
    "def convert_pictures_to_video(pathIn, pathOut, fps, time):\n",
    "  frame_array=[]\n",
    "  files = [f for f in os.listdir(pathIn) if isfile(join(pathIn,f))]\n",
    "  for i in range (len(files)):\n",
    "    filename=pathIn+files[i]\n",
    "    img = cv2.imread(filename)\n",
    "    # img=cv2.resize(img,(1400,1000))\n",
    "    height, width, layers = img.shape\n",
    "    size = (width,height)\n",
    "    \n",
    "    #time to display each image\n",
    "    for k in range (time):\n",
    "      frame_array.append(img)\n",
    "  out = cv2.VideoWriter(pathOut, cv2.VideoWriter_fourcc(*'mp4v'), fps, size)\n",
    "  for i in range(len(frame_array)):\n",
    "    out.write(frame_array[i])\n",
    "  out.release()\n",
    "  \n",
    "\n",
    "directory = 'C:/Users/12255/Dropbox/My PC (MSI)/Documents/Web_Development/images'\n",
    "pathIn = directory+'/'\n",
    "pathOut = pathIn+'video_MC.mp4'\n",
    "fps = 2\n",
    "time = 1 #the duration of each picture in the video\n",
    "convert_pictures_to_video(pathIn, pathOut, fps, time)"
   ]
  },
  {
   "cell_type": "code",
   "execution_count": null,
   "id": "8f1e45db",
   "metadata": {},
   "outputs": [],
   "source": []
  }
 ],
 "metadata": {
  "kernelspec": {
   "display_name": "Python 3",
   "language": "python",
   "name": "python3"
  },
  "language_info": {
   "codemirror_mode": {
    "name": "ipython",
    "version": 3
   },
   "file_extension": ".py",
   "mimetype": "text/x-python",
   "name": "python",
   "nbconvert_exporter": "python",
   "pygments_lexer": "ipython3",
   "version": "3.8.8"
  }
 },
 "nbformat": 4,
 "nbformat_minor": 5
}
